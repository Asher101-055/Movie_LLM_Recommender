{
 "cells": [
  {
   "cell_type": "code",
   "execution_count": 1,
   "id": "95905b5a",
   "metadata": {},
   "outputs": [
    {
     "name": "stderr",
     "output_type": "stream",
     "text": [
      "c:\\Users\\agash\\AppData\\Local\\Programs\\Python\\Python310\\lib\\site-packages\\tqdm\\auto.py:21: TqdmWarning: IProgress not found. Please update jupyter and ipywidgets. See https://ipywidgets.readthedocs.io/en/stable/user_install.html\n",
      "  from .autonotebook import tqdm as notebook_tqdm\n"
     ]
    },
    {
     "name": "stdout",
     "output_type": "stream",
     "text": [
      "* Running on local URL:  http://127.0.0.1:7860\n",
      "* To create a public link, set `share=True` in `launch()`.\n"
     ]
    },
    {
     "data": {
      "text/html": [
       "<div><iframe src=\"http://127.0.0.1:7860/\" width=\"100%\" height=\"500\" allow=\"autoplay; camera; microphone; clipboard-read; clipboard-write;\" frameborder=\"0\" allowfullscreen></iframe></div>"
      ],
      "text/plain": [
       "<IPython.core.display.HTML object>"
      ]
     },
     "metadata": {},
     "output_type": "display_data"
    }
   ],
   "source": [
    "import pandas as pd\n",
    "import joblib\n",
    "import gradio as gr\n",
    "from surprise import SVD\n",
    "from surprise import Dataset, Reader\n",
    "\n",
    "# Load saved artifacts\n",
    "movies = pd.read_csv(\"movies.csv\")\n",
    "svd = joblib.load(\"svd_model.pkl\")\n",
    "cosine_sim = joblib.load(\"cosine_sim.pkl\")\n",
    "\n",
    "# Hybrid recommendation function\n",
    "def hybrid_recommendation(user_id, movie_title, top_n=10):\n",
    "    try:\n",
    "        idx = movies[movies[\"Title\"] == movie_title].index[0]\n",
    "    except IndexError:\n",
    "        return [(\"Movie not found\", 0.0)]\n",
    "\n",
    "    sim_scores = list(enumerate(cosine_sim[idx]))\n",
    "    sim_scores = sorted(sim_scores, key=lambda x: x[1], reverse=True)[1:50]\n",
    "\n",
    "    recommendations = []\n",
    "    for movie_idx, _ in sim_scores:\n",
    "        movie_id = movies.iloc[movie_idx][\"MovieID\"]\n",
    "        try:\n",
    "            pred_rating = svd.predict(int(user_id), int(movie_id)).est\n",
    "            recommendations.append((movies.iloc[movie_idx][\"Title\"], round(pred_rating, 2)))\n",
    "        except:\n",
    "            continue\n",
    "\n",
    "    recommendations = sorted(recommendations, key=lambda x: x[1], reverse=True)\n",
    "    return recommendations[:top_n]\n",
    "\n",
    "# Gradio interface\n",
    "movie_list = movies[\"Title\"].tolist()\n",
    "interface = gr.Interface(\n",
    "    fn=hybrid_recommendation,\n",
    "    inputs=[\n",
    "        gr.Number(label=\"User ID\", precision=0),\n",
    "        gr.Dropdown(choices=movie_list, label=\"Favorite Movie\"),\n",
    "        gr.Slider(minimum=1, maximum=20, step=1, value=10, label=\"Top N Recommendations\")\n",
    "    ],\n",
    "    outputs=gr.Dataframe(headers=[\"Movie\", \"Predicted Rating\"]),\n",
    "    title=\"🎬 Movie Recommender System\",\n",
    "    description=\"Hybrid recommendation using content-based + collaborative filtering (SVD)\"\n",
    ")\n",
    "\n",
    "if __name__ == \"__main__\":\n",
    "    interface.launch()\n"
   ]
  }
 ],
 "metadata": {
  "kernelspec": {
   "display_name": "Python 3",
   "language": "python",
   "name": "python3"
  },
  "language_info": {
   "codemirror_mode": {
    "name": "ipython",
    "version": 3
   },
   "file_extension": ".py",
   "mimetype": "text/x-python",
   "name": "python",
   "nbconvert_exporter": "python",
   "pygments_lexer": "ipython3",
   "version": "3.10.9"
  }
 },
 "nbformat": 4,
 "nbformat_minor": 5
}
